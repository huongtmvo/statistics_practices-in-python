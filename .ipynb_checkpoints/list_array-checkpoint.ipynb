{
 "cells": [
  {
   "cell_type": "markdown",
   "id": "41d8ab5b",
   "metadata": {},
   "source": [
    "### List vs Arrays\n",
    "- Lists can have multiple datatypes\n",
    "- Arrays can store only one datatypes"
   ]
  },
  {
   "cell_type": "code",
   "execution_count": 2,
   "id": "cfd584bb",
   "metadata": {},
   "outputs": [],
   "source": [
    "listA = ['a',123,'orange',4.5,'apple']"
   ]
  },
  {
   "cell_type": "code",
   "execution_count": null,
   "id": "b6b67699",
   "metadata": {},
   "outputs": [],
   "source": []
  }
 ],
 "metadata": {
  "kernelspec": {
   "display_name": "Python 3",
   "language": "python",
   "name": "python3"
  },
  "language_info": {
   "codemirror_mode": {
    "name": "ipython",
    "version": 3
   },
   "file_extension": ".py",
   "mimetype": "text/x-python",
   "name": "python",
   "nbconvert_exporter": "python",
   "pygments_lexer": "ipython3",
   "version": "3.7.4"
  }
 },
 "nbformat": 4,
 "nbformat_minor": 5
}
