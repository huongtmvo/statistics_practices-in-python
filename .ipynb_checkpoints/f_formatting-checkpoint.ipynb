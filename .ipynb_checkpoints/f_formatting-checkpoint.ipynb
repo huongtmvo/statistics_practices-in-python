{
 "cells": [
  {
   "cell_type": "code",
   "execution_count": 2,
   "metadata": {
    "colab": {
     "base_uri": "https://localhost:8080/"
    },
    "executionInfo": {
     "elapsed": 190,
     "status": "ok",
     "timestamp": 1636570588790,
     "user": {
      "displayName": "Helen Vo",
      "photoUrl": "https://lh3.googleusercontent.com/a/default-user=s64",
      "userId": "06024641955657481731"
     },
     "user_tz": 480
    },
    "id": "mXVRoeXiK5nW",
    "outputId": "a89edb12-99f6-44c4-f021-ee34974c2009"
   },
   "outputs": [
    {
     "name": "stdout",
     "output_type": "stream",
     "text": [
      "My name is Huong, my favorite color is pink\n"
     ]
    }
   ],
   "source": [
    "name = 'Huong'\n",
    "color = 'pink'\n",
    "print(f'My name is {name}, my favorite color is {color}')"
   ]
  },
  {
   "cell_type": "markdown",
   "metadata": {
    "id": "2D-dF3YDNb_j"
   },
   "source": [
    "Use F also works "
   ]
  },
  {
   "cell_type": "code",
   "execution_count": 3,
   "metadata": {
    "colab": {
     "base_uri": "https://localhost:8080/"
    },
    "executionInfo": {
     "elapsed": 174,
     "status": "ok",
     "timestamp": 1636570624995,
     "user": {
      "displayName": "Helen Vo",
      "photoUrl": "https://lh3.googleusercontent.com/a/default-user=s64",
      "userId": "06024641955657481731"
     },
     "user_tz": 480
    },
    "id": "Iuujl7f_NUqI",
    "outputId": "655ec35c-8ef4-4483-afa1-2cd4ca857178"
   },
   "outputs": [
    {
     "name": "stdout",
     "output_type": "stream",
     "text": [
      "My name is Huong, my favorite color is pink\n"
     ]
    }
   ],
   "source": [
    "print(F'My name is {name}, my favorite color is {color}')"
   ]
  },
  {
   "cell_type": "code",
   "execution_count": 5,
   "metadata": {
    "colab": {
     "base_uri": "https://localhost:8080/",
     "height": 35
    },
    "executionInfo": {
     "elapsed": 190,
     "status": "ok",
     "timestamp": 1636570670501,
     "user": {
      "displayName": "Helen Vo",
      "photoUrl": "https://lh3.googleusercontent.com/a/default-user=s64",
      "userId": "06024641955657481731"
     },
     "user_tz": 480
    },
    "id": "jDp5p4GYNfJS",
    "outputId": "5bb6f949-16a9-467f-b7cb-0d02513e9ed5"
   },
   "outputs": [
    {
     "data": {
      "application/vnd.google.colaboratory.intrinsic+json": {
       "type": "string"
      },
      "text/plain": [
       "'5'"
      ]
     },
     "execution_count": 5,
     "metadata": {},
     "output_type": "execute_result"
    }
   ],
   "source": [
    "f'{2+3}'"
   ]
  },
  {
   "cell_type": "code",
   "execution_count": 6,
   "metadata": {
    "colab": {
     "base_uri": "https://localhost:8080/"
    },
    "executionInfo": {
     "elapsed": 151,
     "status": "ok",
     "timestamp": 1636570743058,
     "user": {
      "displayName": "Helen Vo",
      "photoUrl": "https://lh3.googleusercontent.com/a/default-user=s64",
      "userId": "06024641955657481731"
     },
     "user_tz": 480
    },
    "id": "lgmlMF_5NllZ",
    "outputId": "b6492876-ad50-412e-bde8-0ca41ee8038b"
   },
   "outputs": [
    {
     "name": "stdout",
     "output_type": "stream",
     "text": [
      "kelvin is funny\n"
     ]
    }
   ],
   "source": [
    "def to_lowercase(input):\n",
    "    return input.lower()\n",
    "name = 'KELvin'\n",
    "print(f'{to_lowercase(name)} is funny')"
   ]
  },
  {
   "cell_type": "code",
   "execution_count": 7,
   "metadata": {
    "colab": {
     "base_uri": "https://localhost:8080/"
    },
    "executionInfo": {
     "elapsed": 141,
     "status": "ok",
     "timestamp": 1636570784470,
     "user": {
      "displayName": "Helen Vo",
      "photoUrl": "https://lh3.googleusercontent.com/a/default-user=s64",
      "userId": "06024641955657481731"
     },
     "user_tz": 480
    },
    "id": "AVsO5TYsN7-5",
    "outputId": "49cb2cc0-8157-438e-fe8f-df3dce131f67"
   },
   "outputs": [
    {
     "name": "stdout",
     "output_type": "stream",
     "text": [
      "KELVIN is smart.\n"
     ]
    }
   ],
   "source": [
    "print(f'{name.upper()} is smart.')"
   ]
  },
  {
   "cell_type": "code",
   "execution_count": 10,
   "metadata": {
    "colab": {
     "base_uri": "https://localhost:8080/",
     "height": 35
    },
    "executionInfo": {
     "elapsed": 163,
     "status": "ok",
     "timestamp": 1636571247082,
     "user": {
      "displayName": "Helen Vo",
      "photoUrl": "https://lh3.googleusercontent.com/a/default-user=s64",
      "userId": "06024641955657481731"
     },
     "user_tz": 480
    },
    "id": "ABmUoz2FOGGP",
    "outputId": "d0d59214-7d4a-443a-91e5-306181778bbe"
   },
   "outputs": [
    {
     "data": {
      "application/vnd.google.colaboratory.intrinsic+json": {
       "type": "string"
      },
      "text/plain": [
       "'Hi, do you want watermelon? Its color is green It is seedless'"
      ]
     },
     "execution_count": 10,
     "metadata": {},
     "output_type": "execute_result"
    }
   ],
   "source": [
    "# Multi line f string\n",
    "fruit = 'watermelon'\n",
    "color = 'green'\n",
    "kind = 'seedless'\n",
    "message = (\n",
    "    f'Hi, do you want {fruit}? '\n",
    "    f'Its color is {color} '\n",
    "    f'It is {kind}'\n",
    ")\n",
    "message"
   ]
  },
  {
   "cell_type": "code",
   "execution_count": 12,
   "metadata": {
    "colab": {
     "base_uri": "https://localhost:8080/",
     "height": 35
    },
    "executionInfo": {
     "elapsed": 158,
     "status": "ok",
     "timestamp": 1636571615801,
     "user": {
      "displayName": "Helen Vo",
      "photoUrl": "https://lh3.googleusercontent.com/a/default-user=s64",
      "userId": "06024641955657481731"
     },
     "user_tz": 480
    },
    "id": "-dBcH89AP5rS",
    "outputId": "a1d2da15-c13e-4bdd-bc13-47ca62b3529e"
   },
   "outputs": [
    {
     "data": {
      "application/vnd.google.colaboratory.intrinsic+json": {
       "type": "string"
      },
      "text/plain": [
       "\"the 'terrible' fruit is watermelon,color is green\""
      ]
     },
     "execution_count": 12,
     "metadata": {},
     "output_type": "execute_result"
    }
   ],
   "source": [
    "f'the \\'terrible\\' fruit is {fruit},color is {color}' "
   ]
  },
  {
   "cell_type": "code",
   "execution_count": 13,
   "metadata": {
    "colab": {
     "base_uri": "https://localhost:8080/",
     "height": 35
    },
    "executionInfo": {
     "elapsed": 140,
     "status": "ok",
     "timestamp": 1636571790233,
     "user": {
      "displayName": "Helen Vo",
      "photoUrl": "https://lh3.googleusercontent.com/a/default-user=s64",
      "userId": "06024641955657481731"
     },
     "user_tz": 480
    },
    "id": "r0E2jvCJRPRY",
    "outputId": "8c3bd7ac-1959-45b4-c7f4-ea4719a4b2a0"
   },
   "outputs": [
    {
     "data": {
      "application/vnd.google.colaboratory.intrinsic+json": {
       "type": "string"
      },
      "text/plain": [
       "'10.12'"
      ]
     },
     "execution_count": 13,
     "metadata": {},
     "output_type": "execute_result"
    }
   ],
   "source": [
    "a = 10.1234\n",
    "f'{a:.2f}'"
   ]
  },
  {
   "cell_type": "code",
   "execution_count": 14,
   "metadata": {
    "colab": {
     "base_uri": "https://localhost:8080/"
    },
    "executionInfo": {
     "elapsed": 141,
     "status": "ok",
     "timestamp": 1636571807165,
     "user": {
      "displayName": "Helen Vo",
      "photoUrl": "https://lh3.googleusercontent.com/a/default-user=s64",
      "userId": "06024641955657481731"
     },
     "user_tz": 480
    },
    "id": "VR98Uy4RR7pQ",
    "outputId": "3f8036c7-81b1-4477-b740-8767bc66cc81"
   },
   "outputs": [
    {
     "name": "stdout",
     "output_type": "stream",
     "text": [
      "pi = 3.14\n"
     ]
    }
   ],
   "source": [
    "x = 3.14159265\n",
    "print(f'pi = {x:.2f}')"
   ]
  },
  {
   "cell_type": "code",
   "execution_count": null,
   "metadata": {
    "id": "39fXmKTyR_xX"
   },
   "outputs": [],
   "source": []
  }
 ],
 "metadata": {
  "colab": {
   "authorship_tag": "ABX9TyMnUS5Jmje3o3iiHM8MphQ3",
   "name": "f_formatting.ipynb",
   "provenance": []
  },
  "kernelspec": {
   "display_name": "Python 3",
   "language": "python",
   "name": "python3"
  },
  "language_info": {
   "codemirror_mode": {
    "name": "ipython",
    "version": 3
   },
   "file_extension": ".py",
   "mimetype": "text/x-python",
   "name": "python",
   "nbconvert_exporter": "python",
   "pygments_lexer": "ipython3",
   "version": "3.7.4"
  }
 },
 "nbformat": 4,
 "nbformat_minor": 1
}
