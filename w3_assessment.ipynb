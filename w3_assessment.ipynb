{
 "cells": [
  {
   "cell_type": "code",
   "execution_count": null,
   "id": "97d0841b",
   "metadata": {},
   "outputs": [],
   "source": [
    "import numpy as np\n",
    "import pandas as pd\n",
    "import seaborn as sns\n",
    "import scipy.stats as stats\n",
    "%matplotlib inline\n",
    "import matplotlib.pyplot as plt\n",
    "pd.set_option('display.max_columns', 100)\n",
    "\n",
    "path = \"Cartwheeldata.csv\""
   ]
  },
  {
   "cell_type": "code",
   "execution_count": null,
   "id": "3fc84ac8",
   "metadata": {},
   "outputs": [],
   "source": [
    "# First, import the data\n",
    "df = df = pd.read_csv(path)"
   ]
  },
  {
   "cell_type": "code",
   "execution_count": null,
   "id": "3b2dbdf0",
   "metadata": {},
   "outputs": [],
   "source": [
    "# Next, look at the 'head' of our DataFrame 'df'. \n",
    "df.head()"
   ]
  },
  {
   "cell_type": "markdown",
   "id": "39d2868a",
   "metadata": {},
   "source": [
    "## Scatter plots"
   ]
  },
  {
   "cell_type": "markdown",
   "id": "9ab5b873",
   "metadata": {},
   "source": [
    "First, let's looks at two variables that we expect to have a strong relationship, 'Height' and 'Wingspan'."
   ]
  },
  {
   "cell_type": "code",
   "execution_count": null,
   "id": "eb5fe3ae",
   "metadata": {},
   "outputs": [],
   "source": [
    "# Make a Seaborn scatter plot with x = height and y = wingspan using sns.scatterplot(x, y)\n",
    "plt.figure(figsize = (10,8))\n",
    "sns.scatterplot(x = 'Height', y = 'Wingspan', data = df)\n",
    "plt.title('Scatter plot between Height and Wingspan')"
   ]
  },
  {
   "cell_type": "markdown",
   "id": "72ec08a2",
   "metadata": {},
   "source": [
    "We see that the relationship between Height and Wingspan is linear."
   ]
  },
  {
   "cell_type": "markdown",
   "id": "f196adf1",
   "metadata": {},
   "source": [
    "Now let's look at two variables that we don't yet assume have a strong relationship, 'Wingspan' and 'CWDistance'"
   ]
  },
  {
   "cell_type": "code",
   "execution_count": null,
   "id": "0540b26c",
   "metadata": {},
   "outputs": [],
   "source": [
    "# Make a Seaborn scatter plot with x = wingspan and y = cartwheel distance\n",
    "sns.scatterplot(x = 'Wingspan', y = 'CWDistance',data = df)\n",
    "plt.title('Scatterplot between Wingspan and cartwheel distance')"
   ]
  },
  {
   "cell_type": "markdown",
   "id": "3a28009a",
   "metadata": {},
   "source": [
    "Let makes the same plot as above, but now include 'Gender' as the color scheme by including the argument"
   ]
  },
  {
   "cell_type": "code",
   "execution_count": null,
   "id": "c129cf6c",
   "metadata": {},
   "outputs": [],
   "source": [
    "# Make a Seaborn scatter plot with x = wingspan and y = cartwheel distance, and hue = gender\n",
    "sns.scatterplot(x = \"Wingspan\", y = \"CWDistance\", hue = 'Gender', data = df)\n",
    "plt.title('Scatter plot between Wingspan and Cartwheel distance for each of gender groups')"
   ]
  },
  {
   "cell_type": "markdown",
   "id": "e28302d9",
   "metadata": {},
   "source": [
    "## Barcharts\n",
    "Now lets plot barplots of 'Glasses'"
   ]
  },
  {
   "cell_type": "code",
   "execution_count": null,
   "id": "dcdeb2b8",
   "metadata": {},
   "outputs": [],
   "source": [
    "# Make a Seaborn barplot with x = glasses and y = cartwheel distance\n",
    "sns.barplot( x = 'Glasses', y = 'CWDistance',data = df)\n",
    "plt.title('Barplot of glasses and cartwheel distance')"
   ]
  },
  {
   "cell_type": "markdown",
   "id": "68d64a19",
   "metadata": {},
   "source": [
    "The non-glass people have slightly bigger cartwheel distance than the wearing glass group."
   ]
  },
  {
   "cell_type": "code",
   "execution_count": null,
   "id": "9a55c133",
   "metadata": {},
   "outputs": [],
   "source": [
    "# Make the same Seaborn boxplot as above, but include gender for the hue argument\n",
    "sns.boxplot( x = 'Glasses', y = 'CWDistance',hue= 'Gender', data = df)"
   ]
  },
  {
   "cell_type": "markdown",
   "id": "a628a8e1",
   "metadata": {},
   "source": [
    "Male with glasses have larger median cartwheel distance than male without glasses. The opposite is true for female."
   ]
  }
 ],
 "metadata": {
  "kernelspec": {
   "display_name": "Python 3",
   "language": "python",
   "name": "python3"
  },
  "language_info": {
   "codemirror_mode": {
    "name": "ipython",
    "version": 3
   },
   "file_extension": ".py",
   "mimetype": "text/x-python",
   "name": "python",
   "nbconvert_exporter": "python",
   "pygments_lexer": "ipython3",
   "version": "3.7.4"
  }
 },
 "nbformat": 4,
 "nbformat_minor": 5
}
