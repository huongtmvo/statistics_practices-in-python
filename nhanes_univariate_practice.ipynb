{
 "cells": [
  {
   "cell_type": "markdown",
   "id": "32f08227",
   "metadata": {
    "id": "32f08227"
   },
   "source": [
    "# Practice notebook for univariate analysis using NHANES data\n",
    "\n",
    "This notebook will give you the opportunity to perform some univariate analyses on your own using the NHANES.  These analyses are similar to what was done in the week 2 NHANES case study notebook.\n",
    "\n",
    "You can enter your code into the cells that say \"enter your code here\", and you can type responses to the questions into the cells that say \"Type Markdown and Latex\".\n",
    "\n",
    "Note that most of the code that you will need to write below is very similar to code that appears in the case study notebook.  You will need to edit code from that notebook in small ways to adapt it to the prompts below.\n",
    "\n",
    "To get started, we will use the same module imports and read the data in the same way as we did in the case study:"
   ]
  },
  {
   "cell_type": "code",
   "execution_count": 1,
   "id": "dfafd46f",
   "metadata": {
    "colab": {
     "base_uri": "https://localhost:8080/"
    },
    "executionInfo": {
     "elapsed": 4485,
     "status": "ok",
     "timestamp": 1637090879489,
     "user": {
      "displayName": "Helen Vo",
      "photoUrl": "https://lh3.googleusercontent.com/a/default-user=s64",
      "userId": "06024641955657481731"
     },
     "user_tz": 480
    },
    "id": "dfafd46f",
    "outputId": "894784f0-b05d-4131-866e-0e4c44cc72b0",
    "scrolled": true
   },
   "outputs": [
    {
     "name": "stdout",
     "output_type": "stream",
     "text": [
      "Requirement already satisfied: statsmodels in /usr/local/lib/python3.7/dist-packages (0.10.2)\n",
      "Requirement already satisfied: numpy>=1.11 in /usr/local/lib/python3.7/dist-packages (from statsmodels) (1.19.5)\n",
      "Requirement already satisfied: patsy>=0.4.0 in /usr/local/lib/python3.7/dist-packages (from statsmodels) (0.5.2)\n",
      "Requirement already satisfied: pandas>=0.19 in /usr/local/lib/python3.7/dist-packages (from statsmodels) (1.1.5)\n",
      "Requirement already satisfied: scipy>=0.18 in /usr/local/lib/python3.7/dist-packages (from statsmodels) (1.4.1)\n",
      "Requirement already satisfied: python-dateutil>=2.7.3 in /usr/local/lib/python3.7/dist-packages (from pandas>=0.19->statsmodels) (2.8.2)\n",
      "Requirement already satisfied: pytz>=2017.2 in /usr/local/lib/python3.7/dist-packages (from pandas>=0.19->statsmodels) (2018.9)\n",
      "Requirement already satisfied: six in /usr/local/lib/python3.7/dist-packages (from patsy>=0.4.0->statsmodels) (1.15.0)\n"
     ]
    }
   ],
   "source": [
    "!pip install statsmodels"
   ]
  },
  {
   "cell_type": "code",
   "execution_count": 242,
   "id": "21c27f3a",
   "metadata": {
    "colab": {
     "base_uri": "https://localhost:8080/",
     "height": 488
    },
    "executionInfo": {
     "elapsed": 1600,
     "status": "error",
     "timestamp": 1637090882632,
     "user": {
      "displayName": "Helen Vo",
      "photoUrl": "https://lh3.googleusercontent.com/a/default-user=s64",
      "userId": "06024641955657481731"
     },
     "user_tz": 480
    },
    "id": "21c27f3a",
    "outputId": "4e7654ce-910b-4e15-a0f6-70bd06204036"
   },
   "outputs": [],
   "source": [
    "import matplotlib.pyplot as plt\n",
    "import seaborn as sns\n",
    "import pandas as pd\n",
    "import statsmodels.api as sm\n",
    "import numpy as np\n",
    "\n",
    "da = pd.read_csv(\"/Volumes/GoogleDrive/My Drive/Statistics/data/NHANES.csv\")"
   ]
  },
  {
   "cell_type": "code",
   "execution_count": 243,
   "id": "b2f98034",
   "metadata": {
    "id": "b2f98034",
    "outputId": "8dc50e0a-9f9a-49b6-8bc5-ebbb1bc62447"
   },
   "outputs": [
    {
     "data": {
      "text/html": [
       "<div>\n",
       "<style scoped>\n",
       "    .dataframe tbody tr th:only-of-type {\n",
       "        vertical-align: middle;\n",
       "    }\n",
       "\n",
       "    .dataframe tbody tr th {\n",
       "        vertical-align: top;\n",
       "    }\n",
       "\n",
       "    .dataframe thead th {\n",
       "        text-align: right;\n",
       "    }\n",
       "</style>\n",
       "<table border=\"1\" class=\"dataframe\">\n",
       "  <thead>\n",
       "    <tr style=\"text-align: right;\">\n",
       "      <th></th>\n",
       "      <th>SEQN</th>\n",
       "      <th>ALQ101</th>\n",
       "      <th>ALQ110</th>\n",
       "      <th>ALQ130</th>\n",
       "      <th>SMQ020</th>\n",
       "      <th>RIAGENDR</th>\n",
       "      <th>RIDAGEYR</th>\n",
       "      <th>RIDRETH1</th>\n",
       "      <th>DMDCITZN</th>\n",
       "      <th>DMDEDUC2</th>\n",
       "      <th>...</th>\n",
       "      <th>BPXSY2</th>\n",
       "      <th>BPXDI2</th>\n",
       "      <th>BMXWT</th>\n",
       "      <th>BMXHT</th>\n",
       "      <th>BMXBMI</th>\n",
       "      <th>BMXLEG</th>\n",
       "      <th>BMXARML</th>\n",
       "      <th>BMXARMC</th>\n",
       "      <th>BMXWAIST</th>\n",
       "      <th>HIQ210</th>\n",
       "    </tr>\n",
       "  </thead>\n",
       "  <tbody>\n",
       "    <tr>\n",
       "      <th>0</th>\n",
       "      <td>83732</td>\n",
       "      <td>1.0</td>\n",
       "      <td>NaN</td>\n",
       "      <td>1.0</td>\n",
       "      <td>1</td>\n",
       "      <td>1</td>\n",
       "      <td>62</td>\n",
       "      <td>3</td>\n",
       "      <td>1.0</td>\n",
       "      <td>5.0</td>\n",
       "      <td>...</td>\n",
       "      <td>124.0</td>\n",
       "      <td>64.0</td>\n",
       "      <td>94.8</td>\n",
       "      <td>184.5</td>\n",
       "      <td>27.8</td>\n",
       "      <td>43.3</td>\n",
       "      <td>43.6</td>\n",
       "      <td>35.9</td>\n",
       "      <td>101.1</td>\n",
       "      <td>2.0</td>\n",
       "    </tr>\n",
       "    <tr>\n",
       "      <th>1</th>\n",
       "      <td>83733</td>\n",
       "      <td>1.0</td>\n",
       "      <td>NaN</td>\n",
       "      <td>6.0</td>\n",
       "      <td>1</td>\n",
       "      <td>1</td>\n",
       "      <td>53</td>\n",
       "      <td>3</td>\n",
       "      <td>2.0</td>\n",
       "      <td>3.0</td>\n",
       "      <td>...</td>\n",
       "      <td>140.0</td>\n",
       "      <td>88.0</td>\n",
       "      <td>90.4</td>\n",
       "      <td>171.4</td>\n",
       "      <td>30.8</td>\n",
       "      <td>38.0</td>\n",
       "      <td>40.0</td>\n",
       "      <td>33.2</td>\n",
       "      <td>107.9</td>\n",
       "      <td>NaN</td>\n",
       "    </tr>\n",
       "    <tr>\n",
       "      <th>2</th>\n",
       "      <td>83734</td>\n",
       "      <td>1.0</td>\n",
       "      <td>NaN</td>\n",
       "      <td>NaN</td>\n",
       "      <td>1</td>\n",
       "      <td>1</td>\n",
       "      <td>78</td>\n",
       "      <td>3</td>\n",
       "      <td>1.0</td>\n",
       "      <td>3.0</td>\n",
       "      <td>...</td>\n",
       "      <td>132.0</td>\n",
       "      <td>44.0</td>\n",
       "      <td>83.4</td>\n",
       "      <td>170.1</td>\n",
       "      <td>28.8</td>\n",
       "      <td>35.6</td>\n",
       "      <td>37.0</td>\n",
       "      <td>31.0</td>\n",
       "      <td>116.5</td>\n",
       "      <td>2.0</td>\n",
       "    </tr>\n",
       "    <tr>\n",
       "      <th>3</th>\n",
       "      <td>83735</td>\n",
       "      <td>2.0</td>\n",
       "      <td>1.0</td>\n",
       "      <td>1.0</td>\n",
       "      <td>2</td>\n",
       "      <td>2</td>\n",
       "      <td>56</td>\n",
       "      <td>3</td>\n",
       "      <td>1.0</td>\n",
       "      <td>5.0</td>\n",
       "      <td>...</td>\n",
       "      <td>134.0</td>\n",
       "      <td>68.0</td>\n",
       "      <td>109.8</td>\n",
       "      <td>160.9</td>\n",
       "      <td>42.4</td>\n",
       "      <td>38.5</td>\n",
       "      <td>37.7</td>\n",
       "      <td>38.3</td>\n",
       "      <td>110.1</td>\n",
       "      <td>2.0</td>\n",
       "    </tr>\n",
       "    <tr>\n",
       "      <th>4</th>\n",
       "      <td>83736</td>\n",
       "      <td>2.0</td>\n",
       "      <td>1.0</td>\n",
       "      <td>1.0</td>\n",
       "      <td>2</td>\n",
       "      <td>2</td>\n",
       "      <td>42</td>\n",
       "      <td>4</td>\n",
       "      <td>1.0</td>\n",
       "      <td>4.0</td>\n",
       "      <td>...</td>\n",
       "      <td>114.0</td>\n",
       "      <td>54.0</td>\n",
       "      <td>55.2</td>\n",
       "      <td>164.9</td>\n",
       "      <td>20.3</td>\n",
       "      <td>37.4</td>\n",
       "      <td>36.0</td>\n",
       "      <td>27.2</td>\n",
       "      <td>80.4</td>\n",
       "      <td>2.0</td>\n",
       "    </tr>\n",
       "  </tbody>\n",
       "</table>\n",
       "<p>5 rows × 28 columns</p>\n",
       "</div>"
      ],
      "text/plain": [
       "    SEQN  ALQ101  ALQ110  ALQ130  SMQ020  RIAGENDR  RIDAGEYR  RIDRETH1  \\\n",
       "0  83732     1.0     NaN     1.0       1         1        62         3   \n",
       "1  83733     1.0     NaN     6.0       1         1        53         3   \n",
       "2  83734     1.0     NaN     NaN       1         1        78         3   \n",
       "3  83735     2.0     1.0     1.0       2         2        56         3   \n",
       "4  83736     2.0     1.0     1.0       2         2        42         4   \n",
       "\n",
       "   DMDCITZN  DMDEDUC2  ...  BPXSY2  BPXDI2  BMXWT  BMXHT  BMXBMI  BMXLEG  \\\n",
       "0       1.0       5.0  ...   124.0    64.0   94.8  184.5    27.8    43.3   \n",
       "1       2.0       3.0  ...   140.0    88.0   90.4  171.4    30.8    38.0   \n",
       "2       1.0       3.0  ...   132.0    44.0   83.4  170.1    28.8    35.6   \n",
       "3       1.0       5.0  ...   134.0    68.0  109.8  160.9    42.4    38.5   \n",
       "4       1.0       4.0  ...   114.0    54.0   55.2  164.9    20.3    37.4   \n",
       "\n",
       "   BMXARML  BMXARMC  BMXWAIST  HIQ210  \n",
       "0     43.6     35.9     101.1     2.0  \n",
       "1     40.0     33.2     107.9     NaN  \n",
       "2     37.0     31.0     116.5     2.0  \n",
       "3     37.7     38.3     110.1     2.0  \n",
       "4     36.0     27.2      80.4     2.0  \n",
       "\n",
       "[5 rows x 28 columns]"
      ]
     },
     "execution_count": 243,
     "metadata": {},
     "output_type": "execute_result"
    }
   ],
   "source": [
    "da.head()"
   ]
  },
  {
   "cell_type": "code",
   "execution_count": 244,
   "id": "3e20e392",
   "metadata": {
    "id": "3e20e392",
    "outputId": "969b855e-8f4e-4624-de7b-d5a10873484e"
   },
   "outputs": [
    {
     "data": {
      "text/plain": [
       "Index(['SEQN', 'ALQ101', 'ALQ110', 'ALQ130', 'SMQ020', 'RIAGENDR', 'RIDAGEYR',\n",
       "       'RIDRETH1', 'DMDCITZN', 'DMDEDUC2', 'DMDMARTL', 'DMDHHSIZ', 'WTINT2YR',\n",
       "       'SDMVPSU', 'SDMVSTRA', 'INDFMPIR', 'BPXSY1', 'BPXDI1', 'BPXSY2',\n",
       "       'BPXDI2', 'BMXWT', 'BMXHT', 'BMXBMI', 'BMXLEG', 'BMXARML', 'BMXARMC',\n",
       "       'BMXWAIST', 'HIQ210'],\n",
       "      dtype='object')"
      ]
     },
     "execution_count": 244,
     "metadata": {},
     "output_type": "execute_result"
    }
   ],
   "source": [
    " da.columns"
   ]
  },
  {
   "cell_type": "markdown",
   "id": "6e7fd492",
   "metadata": {
    "id": "6e7fd492"
   },
   "source": [
    "## Question 1\n",
    "\n",
    "Relabel the marital status variable [DMDMARTL](https://wwwn.cdc.gov/Nchs/Nhanes/2015-2016/DEMO_I.htm#DMDMARTL) to have brief but informative character labels.  Then construct a frequency table of these values for all people, then for women only, and for men only.  Then construct these three frequency tables using only people whose age is between 30 and 40."
   ]
  },
  {
   "cell_type": "code",
   "execution_count": 245,
   "id": "2218a8bb",
   "metadata": {
    "id": "2218a8bb"
   },
   "outputs": [],
   "source": [
    "# Relabel the marital status variable DMDMARTL\n",
    "da['marital_status'] = da['DMDMARTL'].replace({1:\"Married\",2:\"Widowed\",3:\"Divorced\",4:\"Separated\",\n",
    "                                               5:\"Never married\",6:\"Living with partner\",77:\"Refused\",\n",
    "                                               99:\"Don't know\"})                                  "
   ]
  },
  {
   "cell_type": "code",
   "execution_count": 246,
   "id": "53ac2542",
   "metadata": {
    "id": "53ac2542",
    "outputId": "f87ce1f9-2243-4fbb-e175-2a995d83aa61"
   },
   "outputs": [
    {
     "data": {
      "text/plain": [
       "Married                2780\n",
       "Never married          1004\n",
       "Divorced                579\n",
       "Living with partner     527\n",
       "Widowed                 396\n",
       "Separated               186\n",
       "Refused                   2\n",
       "Name: marital_status, dtype: int64"
      ]
     },
     "execution_count": 246,
     "metadata": {},
     "output_type": "execute_result"
    }
   ],
   "source": [
    "# Frequency table for all people\n",
    "a = da.marital_status.value_counts()\n",
    "a"
   ]
  },
  {
   "cell_type": "code",
   "execution_count": 247,
   "id": "0e5197b2",
   "metadata": {
    "id": "0e5197b2",
    "outputId": "f84f4c16-2fb7-4fbf-c18a-fa26aa15cc1f"
   },
   "outputs": [
    {
     "data": {
      "text/plain": [
       "Married                0.507855\n",
       "Never married          0.183412\n",
       "Divorced               0.105773\n",
       "Living with partner    0.096273\n",
       "Widowed                0.072342\n",
       "Separated              0.033979\n",
       "Refused                0.000365\n",
       "Name: marital_status, dtype: float64"
      ]
     },
     "execution_count": 247,
     "metadata": {},
     "output_type": "execute_result"
    }
   ],
   "source": [
    "# Percentage frequencey table of marital status for all people\n",
    "a/a.sum()"
   ]
  },
  {
   "cell_type": "code",
   "execution_count": 248,
   "id": "2b2063fe",
   "metadata": {
    "id": "2b2063fe",
    "outputId": "c062d485-5d71-4a86-fa2d-3031989bc828"
   },
   "outputs": [
    {
     "data": {
      "text/plain": [
       "Married                1477\n",
       "Never married           484\n",
       "Living with partner     265\n",
       "Divorced                229\n",
       "Widowed                 100\n",
       "Separated                68\n",
       "Refused                   1\n",
       "Name: marital_status, dtype: int64"
      ]
     },
     "execution_count": 248,
     "metadata": {},
     "output_type": "execute_result"
    }
   ],
   "source": [
    "# Frequecy table for male's marital status\n",
    "da[da.RIAGENDR == 1]['marital_status'].value_counts()"
   ]
  },
  {
   "cell_type": "code",
   "execution_count": 249,
   "id": "82873112",
   "metadata": {
    "id": "82873112",
    "outputId": "bb1028fd-8450-42c0-96e2-cba1a69fc057"
   },
   "outputs": [
    {
     "data": {
      "text/plain": [
       "Married                1477\n",
       "Never married           484\n",
       "Living with partner     265\n",
       "Divorced                229\n",
       "Widowed                 100\n",
       "Separated                68\n",
       "Refused                   1\n",
       "Name: marital_status, dtype: int64"
      ]
     },
     "execution_count": 249,
     "metadata": {},
     "output_type": "execute_result"
    }
   ],
   "source": [
    "# Another way of doing frequency table for male's marital status\n",
    "m = da.loc[da.RIAGENDR ==1,'marital_status'].value_counts()\n",
    "m"
   ]
  },
  {
   "cell_type": "code",
   "execution_count": 250,
   "id": "d9c6e783",
   "metadata": {
    "id": "d9c6e783",
    "outputId": "945b7a1c-3721-4217-a0aa-6a01f4e0f1cc"
   },
   "outputs": [
    {
     "data": {
      "text/plain": [
       "Married                0.562881\n",
       "Never married          0.184451\n",
       "Living with partner    0.100991\n",
       "Divorced               0.087271\n",
       "Widowed                0.038110\n",
       "Separated              0.025915\n",
       "Refused                0.000381\n",
       "Name: marital_status, dtype: float64"
      ]
     },
     "execution_count": 250,
     "metadata": {},
     "output_type": "execute_result"
    }
   ],
   "source": [
    "# Percentage frequency table of male's marial status\n",
    "m/m.sum()"
   ]
  },
  {
   "cell_type": "code",
   "execution_count": 251,
   "id": "64c8e653",
   "metadata": {
    "id": "64c8e653",
    "outputId": "6ba63f40-c07b-44ff-9c52-83688e38cd06"
   },
   "outputs": [
    {
     "data": {
      "text/plain": [
       "Married                1303\n",
       "Never married           520\n",
       "Divorced                350\n",
       "Widowed                 296\n",
       "Living with partner     262\n",
       "Separated               118\n",
       "Refused                   1\n",
       "Name: marital_status, dtype: int64"
      ]
     },
     "execution_count": 251,
     "metadata": {},
     "output_type": "execute_result"
    }
   ],
   "source": [
    "# Frequency table of marital status for women\n",
    "f = da.loc[da.RIAGENDR == 2,'marital_status'].value_counts()\n",
    "f"
   ]
  },
  {
   "cell_type": "code",
   "execution_count": 252,
   "id": "e90f2dc2",
   "metadata": {
    "id": "e90f2dc2",
    "outputId": "ec28a35b-a50a-463c-93b2-4248266e3f87"
   },
   "outputs": [
    {
     "data": {
      "text/plain": [
       "Married                0.457193\n",
       "Never married          0.182456\n",
       "Divorced               0.122807\n",
       "Widowed                0.103860\n",
       "Living with partner    0.091930\n",
       "Separated              0.041404\n",
       "Refused                0.000351\n",
       "Name: marital_status, dtype: float64"
      ]
     },
     "execution_count": 252,
     "metadata": {},
     "output_type": "execute_result"
    }
   ],
   "source": [
    "# Percentage frequency table of female's marital status\n",
    "f/f.sum()"
   ]
  },
  {
   "cell_type": "code",
   "execution_count": 253,
   "id": "454f9fd7",
   "metadata": {
    "id": "454f9fd7",
    "outputId": "3f0f16b2-2e10-48cb-b31a-c0369b889a03"
   },
   "outputs": [
    {
     "data": {
      "text/plain": [
       "Married                560\n",
       "Never married          217\n",
       "Living with partner    143\n",
       "Divorced                70\n",
       "Separated               30\n",
       "Widowed                  5\n",
       "Refused                  1\n",
       "Name: marital_status, dtype: int64"
      ]
     },
     "execution_count": 253,
     "metadata": {},
     "output_type": "execute_result"
    }
   ],
   "source": [
    "# Frequency table of marital status for all people age between 30 and 40\n",
    "da.loc[(da.RIDAGEYR >= 30) & (da.RIDAGEYR <= 40),'marital_status'].value_counts()"
   ]
  },
  {
   "cell_type": "code",
   "execution_count": 254,
   "id": "7bcaccfd",
   "metadata": {
    "id": "7bcaccfd",
    "outputId": "faef87a6-fd71-4471-f1a4-7e1761c8a4f9"
   },
   "outputs": [
    {
     "data": {
      "text/plain": [
       "Married                275\n",
       "Never married          101\n",
       "Living with partner     78\n",
       "Divorced                24\n",
       "Separated               12\n",
       "Widowed                  3\n",
       "Refused                  1\n",
       "Name: marital_status, dtype: int64"
      ]
     },
     "execution_count": 254,
     "metadata": {},
     "output_type": "execute_result"
    }
   ],
   "source": [
    "# People between 30 and 40 \n",
    "da30_40 = da[(da.RIDAGEYR >= 30) & (da.RIDAGEYR <= 40)]\n",
    "\n",
    "# Frequency table of men's marital status\n",
    "da30_40.loc[da30_40.RIAGENDR == 1,'marital_status'].value_counts()"
   ]
  },
  {
   "cell_type": "code",
   "execution_count": 255,
   "id": "83850eca",
   "metadata": {
    "id": "83850eca",
    "outputId": "a9b371ae-5e96-4764-e4fd-15c9b0e82e03"
   },
   "outputs": [
    {
     "data": {
      "text/plain": [
       "Married                285\n",
       "Never married          116\n",
       "Living with partner     65\n",
       "Divorced                46\n",
       "Separated               18\n",
       "Widowed                  2\n",
       "Name: marital_status, dtype: int64"
      ]
     },
     "execution_count": 255,
     "metadata": {},
     "output_type": "execute_result"
    }
   ],
   "source": [
    "# Frequency table of women's marital status\n",
    "da30_40.loc[da30_40.RIAGENDR == 2,'marital_status'].value_counts()"
   ]
  },
  {
   "cell_type": "markdown",
   "id": "60b3542d",
   "metadata": {
    "id": "60b3542d"
   },
   "source": [
    "__Q1a.__ Briefly comment on some of the differences that you observe between the distribution of marital status between women and men, for people of all ages."
   ]
  },
  {
   "cell_type": "markdown",
   "id": "7042273f",
   "metadata": {
    "id": "7042273f"
   },
   "source": [
    "For both groups, married and never married ranks first and second respectively. More than half the men are married (56%), while married women composed of 46% of all women. For women, the third most popular group is Divorced, whereas that of men is living with partner.Women are also likely widowed compared to men."
   ]
  },
  {
   "cell_type": "markdown",
   "id": "5fcd9b4d",
   "metadata": {
    "id": "5fcd9b4d"
   },
   "source": [
    "__Q1b.__ Briefly comment on the differences that you observe between the distribution of marital status states for women between the overall population, and for women between the ages of 30 and 40."
   ]
  },
  {
   "cell_type": "markdown",
   "id": "6507a2b0",
   "metadata": {
    "id": "6507a2b0"
   },
   "source": [
    "The top three categories of women's marital status are the same of that of the population: Married, Never married, and Divorced respectively. The overal population's 4th category are Living with partner, while that of women is Widowed. \n",
    "\n",
    "Women between age of 30 and 40 are more likely to living with partner than divorced, and tend not to be widowed. This makes sense given they're still younger in life. "
   ]
  },
  {
   "cell_type": "markdown",
   "id": "5540fdee",
   "metadata": {
    "id": "5540fdee"
   },
   "source": [
    "__Q1c.__ Repeat part b for the men."
   ]
  },
  {
   "cell_type": "markdown",
   "id": "636e2fd7",
   "metadata": {
    "id": "636e2fd7"
   },
   "source": [
    "Men has the same top categories as the overall population, with Married and Never Married tops the list. Men are more likely to live with partner than divorced. The same goes for men between 30 and 40. Men this age are also more likely to be living with partner than divorced, and tend not to be widowed."
   ]
  },
  {
   "cell_type": "markdown",
   "id": "fd97a28f",
   "metadata": {
    "id": "fd97a28f"
   },
   "source": [
    "## Question 2\n",
    "\n",
    "Restricting to the female population, stratify the subjects into age bands no wider than ten years, and construct the distribution of marital status within each age band.  Within each age band, present the distribution in terms of proportions that must sum to 1."
   ]
  },
  {
   "cell_type": "code",
   "execution_count": 257,
   "id": "dff71136",
   "metadata": {
    "id": "dff71136"
   },
   "outputs": [],
   "source": [
    "da_female = da[da.RIAGENDR ==2]"
   ]
  },
  {
   "cell_type": "code",
   "execution_count": 258,
   "id": "26b58510",
   "metadata": {
    "id": "26b58510",
    "outputId": "794076e9-4343-4ffd-aab9-2140bb2b2b8f"
   },
   "outputs": [
    {
     "data": {
      "text/html": [
       "<div>\n",
       "<style scoped>\n",
       "    .dataframe tbody tr th:only-of-type {\n",
       "        vertical-align: middle;\n",
       "    }\n",
       "\n",
       "    .dataframe tbody tr th {\n",
       "        vertical-align: top;\n",
       "    }\n",
       "\n",
       "    .dataframe thead th {\n",
       "        text-align: right;\n",
       "    }\n",
       "</style>\n",
       "<table border=\"1\" class=\"dataframe\">\n",
       "  <thead>\n",
       "    <tr style=\"text-align: right;\">\n",
       "      <th>marital_status</th>\n",
       "      <th>Divorced</th>\n",
       "      <th>Living with partner</th>\n",
       "      <th>Married</th>\n",
       "      <th>Never married</th>\n",
       "      <th>Refused</th>\n",
       "      <th>Separated</th>\n",
       "      <th>Widowed</th>\n",
       "    </tr>\n",
       "    <tr>\n",
       "      <th>age_group</th>\n",
       "      <th></th>\n",
       "      <th></th>\n",
       "      <th></th>\n",
       "      <th></th>\n",
       "      <th></th>\n",
       "      <th></th>\n",
       "      <th></th>\n",
       "    </tr>\n",
       "  </thead>\n",
       "  <tbody>\n",
       "    <tr>\n",
       "      <th>(18, 30]</th>\n",
       "      <td>0.019892</td>\n",
       "      <td>0.206148</td>\n",
       "      <td>0.285714</td>\n",
       "      <td>0.468354</td>\n",
       "      <td>NaN</td>\n",
       "      <td>0.019892</td>\n",
       "      <td>NaN</td>\n",
       "    </tr>\n",
       "    <tr>\n",
       "      <th>(30, 40]</th>\n",
       "      <td>0.090717</td>\n",
       "      <td>0.120253</td>\n",
       "      <td>0.544304</td>\n",
       "      <td>0.204641</td>\n",
       "      <td>NaN</td>\n",
       "      <td>0.035865</td>\n",
       "      <td>0.004219</td>\n",
       "    </tr>\n",
       "    <tr>\n",
       "      <th>(40, 50]</th>\n",
       "      <td>0.137450</td>\n",
       "      <td>0.073705</td>\n",
       "      <td>0.573705</td>\n",
       "      <td>0.125498</td>\n",
       "      <td>NaN</td>\n",
       "      <td>0.065737</td>\n",
       "      <td>0.023904</td>\n",
       "    </tr>\n",
       "    <tr>\n",
       "      <th>(50, 60]</th>\n",
       "      <td>0.176596</td>\n",
       "      <td>0.068085</td>\n",
       "      <td>0.546809</td>\n",
       "      <td>0.089362</td>\n",
       "      <td>0.002128</td>\n",
       "      <td>0.057447</td>\n",
       "      <td>0.059574</td>\n",
       "    </tr>\n",
       "    <tr>\n",
       "      <th>(60, 70]</th>\n",
       "      <td>0.192744</td>\n",
       "      <td>0.043084</td>\n",
       "      <td>0.480726</td>\n",
       "      <td>0.086168</td>\n",
       "      <td>NaN</td>\n",
       "      <td>0.049887</td>\n",
       "      <td>0.147392</td>\n",
       "    </tr>\n",
       "    <tr>\n",
       "      <th>(70, 80]</th>\n",
       "      <td>0.143902</td>\n",
       "      <td>0.007317</td>\n",
       "      <td>0.317073</td>\n",
       "      <td>0.051220</td>\n",
       "      <td>NaN</td>\n",
       "      <td>0.019512</td>\n",
       "      <td>0.460976</td>\n",
       "    </tr>\n",
       "  </tbody>\n",
       "</table>\n",
       "</div>"
      ],
      "text/plain": [
       "marital_status  Divorced  Living with partner   Married  Never married  \\\n",
       "age_group                                                                \n",
       "(18, 30]        0.019892             0.206148  0.285714       0.468354   \n",
       "(30, 40]        0.090717             0.120253  0.544304       0.204641   \n",
       "(40, 50]        0.137450             0.073705  0.573705       0.125498   \n",
       "(50, 60]        0.176596             0.068085  0.546809       0.089362   \n",
       "(60, 70]        0.192744             0.043084  0.480726       0.086168   \n",
       "(70, 80]        0.143902             0.007317  0.317073       0.051220   \n",
       "\n",
       "marital_status   Refused  Separated   Widowed  \n",
       "age_group                                      \n",
       "(18, 30]             NaN   0.019892       NaN  \n",
       "(30, 40]             NaN   0.035865  0.004219  \n",
       "(40, 50]             NaN   0.065737  0.023904  \n",
       "(50, 60]        0.002128   0.057447  0.059574  \n",
       "(60, 70]             NaN   0.049887  0.147392  \n",
       "(70, 80]             NaN   0.019512  0.460976  "
      ]
     },
     "execution_count": 258,
     "metadata": {},
     "output_type": "execute_result"
    }
   ],
   "source": [
    "da[\"age_group\"] = pd.cut(da.RIDAGEYR, [18, 30, 40, 50, 60, 70, 80])\n",
    "dx = da_female.groupby(['age_group'])['marital_status'].value_counts().unstack()\n",
    "dx = dx.apply(lambda x: x/x.sum(), axis=1)\n",
    "dx"
   ]
  },
  {
   "cell_type": "markdown",
   "id": "0ecd37b0",
   "metadata": {
    "id": "0ecd37b0"
   },
   "source": [
    "__Q2a.__ Comment on the trends that you see in this series of marginal distributions."
   ]
  },
  {
   "cell_type": "markdown",
   "id": "9ab3f3b8",
   "metadata": {
    "id": "08d2fcb8"
   },
   "source": [
    "Among women, the divorces rate tend to rise with age, with its peak at around women age between 60 and 70. The opposite goes with living with partner and never married, the older the women gets, the less likely they are to live with partner. The rate  of women who are separated rise with age, peaks at 40 to 50 years olf age, and then decreases again. The windowed proportion rises with age,the older the women get, the more likely she is to be widowed."
   ]
  },
  {
   "cell_type": "markdown",
   "id": "92f527c6",
   "metadata": {
    "id": "92f527c6"
   },
   "source": [
    "__Q2b.__ Repeat the construction for males."
   ]
  },
  {
   "cell_type": "code",
   "execution_count": 259,
   "id": "2521b060",
   "metadata": {
    "id": "2521b060"
   },
   "outputs": [],
   "source": [
    "da_male = da[da.RIAGENDR == 1]"
   ]
  },
  {
   "cell_type": "code",
   "execution_count": 260,
   "id": "a1f9987f",
   "metadata": {},
   "outputs": [
    {
     "data": {
      "text/html": [
       "<div>\n",
       "<style scoped>\n",
       "    .dataframe tbody tr th:only-of-type {\n",
       "        vertical-align: middle;\n",
       "    }\n",
       "\n",
       "    .dataframe tbody tr th {\n",
       "        vertical-align: top;\n",
       "    }\n",
       "\n",
       "    .dataframe thead th {\n",
       "        text-align: right;\n",
       "    }\n",
       "</style>\n",
       "<table border=\"1\" class=\"dataframe\">\n",
       "  <thead>\n",
       "    <tr style=\"text-align: right;\">\n",
       "      <th>marital_status</th>\n",
       "      <th>Divorced</th>\n",
       "      <th>Living with partner</th>\n",
       "      <th>Married</th>\n",
       "      <th>Never married</th>\n",
       "      <th>Refused</th>\n",
       "      <th>Separated</th>\n",
       "      <th>Widowed</th>\n",
       "    </tr>\n",
       "    <tr>\n",
       "      <th>age_group</th>\n",
       "      <th></th>\n",
       "      <th></th>\n",
       "      <th></th>\n",
       "      <th></th>\n",
       "      <th></th>\n",
       "      <th></th>\n",
       "      <th></th>\n",
       "    </tr>\n",
       "  </thead>\n",
       "  <tbody>\n",
       "    <tr>\n",
       "      <th>(18, 30]</th>\n",
       "      <td>0.004237</td>\n",
       "      <td>0.201271</td>\n",
       "      <td>0.220339</td>\n",
       "      <td>0.555085</td>\n",
       "      <td>NaN</td>\n",
       "      <td>0.014831</td>\n",
       "      <td>0.004237</td>\n",
       "    </tr>\n",
       "    <tr>\n",
       "      <th>(30, 40]</th>\n",
       "      <td>0.052402</td>\n",
       "      <td>0.157205</td>\n",
       "      <td>0.563319</td>\n",
       "      <td>0.194323</td>\n",
       "      <td>0.002183</td>\n",
       "      <td>0.026201</td>\n",
       "      <td>0.004367</td>\n",
       "    </tr>\n",
       "    <tr>\n",
       "      <th>(40, 50]</th>\n",
       "      <td>0.084788</td>\n",
       "      <td>0.082294</td>\n",
       "      <td>0.703242</td>\n",
       "      <td>0.097257</td>\n",
       "      <td>NaN</td>\n",
       "      <td>0.027431</td>\n",
       "      <td>0.004988</td>\n",
       "    </tr>\n",
       "    <tr>\n",
       "      <th>(50, 60]</th>\n",
       "      <td>0.125551</td>\n",
       "      <td>0.074890</td>\n",
       "      <td>0.651982</td>\n",
       "      <td>0.103524</td>\n",
       "      <td>NaN</td>\n",
       "      <td>0.022026</td>\n",
       "      <td>0.022026</td>\n",
       "    </tr>\n",
       "    <tr>\n",
       "      <th>(60, 70]</th>\n",
       "      <td>0.125858</td>\n",
       "      <td>0.050343</td>\n",
       "      <td>0.665904</td>\n",
       "      <td>0.086957</td>\n",
       "      <td>NaN</td>\n",
       "      <td>0.032037</td>\n",
       "      <td>0.038902</td>\n",
       "    </tr>\n",
       "    <tr>\n",
       "      <th>(70, 80]</th>\n",
       "      <td>0.141791</td>\n",
       "      <td>0.022388</td>\n",
       "      <td>0.611940</td>\n",
       "      <td>0.022388</td>\n",
       "      <td>NaN</td>\n",
       "      <td>0.034826</td>\n",
       "      <td>0.166667</td>\n",
       "    </tr>\n",
       "  </tbody>\n",
       "</table>\n",
       "</div>"
      ],
      "text/plain": [
       "marital_status  Divorced  Living with partner   Married  Never married  \\\n",
       "age_group                                                                \n",
       "(18, 30]        0.004237             0.201271  0.220339       0.555085   \n",
       "(30, 40]        0.052402             0.157205  0.563319       0.194323   \n",
       "(40, 50]        0.084788             0.082294  0.703242       0.097257   \n",
       "(50, 60]        0.125551             0.074890  0.651982       0.103524   \n",
       "(60, 70]        0.125858             0.050343  0.665904       0.086957   \n",
       "(70, 80]        0.141791             0.022388  0.611940       0.022388   \n",
       "\n",
       "marital_status   Refused  Separated   Widowed  \n",
       "age_group                                      \n",
       "(18, 30]             NaN   0.014831  0.004237  \n",
       "(30, 40]        0.002183   0.026201  0.004367  \n",
       "(40, 50]             NaN   0.027431  0.004988  \n",
       "(50, 60]             NaN   0.022026  0.022026  \n",
       "(60, 70]             NaN   0.032037  0.038902  \n",
       "(70, 80]             NaN   0.034826  0.166667  "
      ]
     },
     "execution_count": 260,
     "metadata": {},
     "output_type": "execute_result"
    }
   ],
   "source": [
    "dx = da_male.groupby(['age_group'])['marital_status'].value_counts().unstack()\n",
    "dx = dx.apply(lambda x: x/x.sum(),axis = 1)\n",
    "dx"
   ]
  },
  {
   "cell_type": "markdown",
   "id": "61bf19af",
   "metadata": {
    "id": "61bf19af"
   },
   "source": [
    "__Q2c.__ Comment on any notable differences that you see when comparing these results for females and for males."
   ]
  },
  {
   "cell_type": "markdown",
   "id": "f2f1ced8",
   "metadata": {
    "id": "0a7771ed"
   },
   "source": [
    "For male, the divorced rate and widowed increase with age, the older the men get, the more likely he is to be divorced or widowed. The opposite goes true for living with partner and never married, these rates decrease with age. The rate of married among men rises with age and peaks at group age 40-50, and then fell gain.\n",
    "\n",
    "From the above tables, we can see that men get married at later age but are more likely to be married after 30 than women. Women between age 70-80 have significant higher rate of being widowed than men; this coud be explained due to the fact that women are more likely to live longer than men."
   ]
  },
  {
   "cell_type": "markdown",
   "id": "2fa39fc9",
   "metadata": {
    "id": "2fa39fc9"
   },
   "source": [
    "## Question 3\n",
    "\n",
    "Construct a histogram of the distribution of heights using the BMXHT variable in the NHANES sample."
   ]
  },
  {
   "cell_type": "code",
   "execution_count": 261,
   "id": "2c96b626",
   "metadata": {
    "id": "2c96b626"
   },
   "outputs": [
    {
     "name": "stderr",
     "output_type": "stream",
     "text": [
      "/Library/Frameworks/Python.framework/Versions/3.7/lib/python3.7/site-packages/seaborn/distributions.py:2619: FutureWarning: `distplot` is a deprecated function and will be removed in a future version. Please adapt your code to use either `displot` (a figure-level function with similar flexibility) or `histplot` (an axes-level function for histograms).\n",
      "  warnings.warn(msg, FutureWarning)\n"
     ]
    },
    {
     "data": {
      "text/plain": [
       "<AxesSubplot:xlabel='BMXHT'>"
      ]
     },
     "execution_count": 261,
     "metadata": {},
     "output_type": "execute_result"
    },
    {
     "data": {
      "image/png": "[encoded data removed]",
      "text/plain": [
       "<Figure size 432x288 with 1 Axes>"
      ]
     },
     "metadata": {
      "needs_background": "light"
     },
     "output_type": "display_data"
    }
   ],
   "source": [
    "sns.distplot(da.BMXHT,kde = False)"
   ]
  },
  {
   "cell_type": "markdown",
   "id": "dff00b95",
   "metadata": {
    "id": "dff00b95"
   },
   "source": [
    "__Q3a.__ Use the `bins` argument to [distplot](https://seaborn.pydata.org/generated/seaborn.distplot.html) to produce histograms with different numbers of bins.  Assess whether the default value for this argument gives a meaningful result, and comment on what happens as the number of bins grows excessively large or excessively small. "
   ]
  },
  {
   "cell_type": "markdown",
   "id": "9367b4b3",
   "metadata": {},
   "source": [
    "The default value of bins argument above gives a roughly bell-shaped distribution with median at 170 cm."
   ]
  },
  {
   "cell_type": "code",
   "execution_count": 262,
   "id": "4e853c16",
   "metadata": {
    "id": "4e853c16"
   },
   "outputs": [
    {
     "data": {
      "text/plain": [
       "<seaborn.axisgrid.FacetGrid at 0x7fcb1ffcbb10>"
      ]
     },
     "execution_count": 262,
     "metadata": {},
     "output_type": "execute_result"
    },
    {
     "data": {
      "image/png": "[encoded data removed]",
      "text/plain": [
       "<Figure size 360x360 with 1 Axes>"
      ]
     },
     "metadata": {
      "needs_background": "light"
     },
     "output_type": "display_data"
    }
   ],
   "source": [
    "sns.displot(da.BMXHT,bins = 40,kde = False)"
   ]
  },
  {
   "cell_type": "code",
   "execution_count": 263,
   "id": "35890ab6",
   "metadata": {},
   "outputs": [
    {
     "data": {
      "text/plain": [
       "<seaborn.axisgrid.FacetGrid at 0x7fcb0a34b690>"
      ]
     },
     "execution_count": 263,
     "metadata": {},
     "output_type": "execute_result"
    },
    {
     "data": {
      "image/png": "[encoded data removed]",
      "text/plain": [
       "<Figure size 360x360 with 1 Axes>"
      ]
     },
     "metadata": {
      "needs_background": "light"
     },
     "output_type": "display_data"
    }
   ],
   "source": [
    "sns.displot(da.BMXHT,bins = 1000,kde = False)"
   ]
  },
  {
   "cell_type": "code",
   "execution_count": 264,
   "id": "31f9dce4",
   "metadata": {},
   "outputs": [
    {
     "data": {
      "text/plain": [
       "<seaborn.axisgrid.FacetGrid at 0x7fcb0a36c510>"
      ]
     },
     "execution_count": 264,
     "metadata": {},
     "output_type": "execute_result"
    },
    {
     "data": {
      "image/png": "[encoded data removed]",
      "text/plain": [
       "<Figure size 360x360 with 1 Axes>"
      ]
     },
     "metadata": {
      "needs_background": "light"
     },
     "output_type": "display_data"
    }
   ],
   "source": [
    "sns.displot(da.BMXHT,bins = 5,kde = False)"
   ]
  },
  {
   "cell_type": "markdown",
   "id": "c20f6823",
   "metadata": {},
   "source": [
    "When the number of bins is excessively large, the distribution's catches a lot of noises and less informative; on the other hand,when the number of bins is excessively small, the distribution gives off incomplete information and not very informative"
   ]
  },
  {
   "cell_type": "markdown",
   "id": "672cd4f9",
   "metadata": {
    "id": "672cd4f9"
   },
   "source": [
    "__Q3b.__ Make separate histograms for the heights of women and men, then make a side-by-side boxplot showing the heights of women and men."
   ]
  },
  {
   "cell_type": "code",
   "execution_count": 265,
   "id": "328552ef",
   "metadata": {},
   "outputs": [
    {
     "name": "stderr",
     "output_type": "stream",
     "text": [
      "/Library/Frameworks/Python.framework/Versions/3.7/lib/python3.7/site-packages/seaborn/distributions.py:2619: FutureWarning: `distplot` is a deprecated function and will be removed in a future version. Please adapt your code to use either `displot` (a figure-level function with similar flexibility) or `histplot` (an axes-level function for histograms).\n",
      "  warnings.warn(msg, FutureWarning)\n"
     ]
    },
    {
     "data": {
      "text/plain": [
       "Text(0, 0.5, 'Count')"
      ]
     },
     "execution_count": 265,
     "metadata": {},
     "output_type": "execute_result"
    },
    {
     "data": {
      "image/png": "[encoded data removed]",
      "text/plain": [
       "<Figure size 432x288 with 1 Axes>"
      ]
     },
     "metadata": {
      "needs_background": "light"
     },
     "output_type": "display_data"
    }
   ],
   "source": [
    "sns.distplot(da[da.RIAGENDR ==2]['BMXHT'],kde = False)\n",
    "plt.title('Histogram for heights of women')\n",
    "plt.xlabel('Height')\n",
    "plt.ylabel('Count')"
   ]
  },
  {
   "cell_type": "code",
   "execution_count": 266,
   "id": "5e19c8ee",
   "metadata": {},
   "outputs": [
    {
     "name": "stderr",
     "output_type": "stream",
     "text": [
      "/Library/Frameworks/Python.framework/Versions/3.7/lib/python3.7/site-packages/seaborn/distributions.py:2619: FutureWarning: `distplot` is a deprecated function and will be removed in a future version. Please adapt your code to use either `displot` (a figure-level function with similar flexibility) or `histplot` (an axes-level function for histograms).\n",
      "  warnings.warn(msg, FutureWarning)\n"
     ]
    },
    {
     "data": {
      "text/plain": [
       "Text(0, 0.5, 'Count')"
      ]
     },
     "execution_count": 266,
     "metadata": {},
     "output_type": "execute_result"
    },
    {
     "data": {
      "image/png": "[encoded data removed]",
      "text/plain": [
       "<Figure size 432x288 with 1 Axes>"
      ]
     },
     "metadata": {
      "needs_background": "light"
     },
     "output_type": "display_data"
    }
   ],
   "source": [
    "sns.distplot(da[da.RIAGENDR ==1]['BMXHT'],kde = False)\n",
    "plt.title('Histogram for heights of men')\n",
    "plt.xlabel('Height')\n",
    "plt.ylabel('Count')"
   ]
  },
  {
   "cell_type": "code",
   "execution_count": 267,
   "id": "53e59915",
   "metadata": {
    "id": "53e59915"
   },
   "outputs": [
    {
     "data": {
      "image/png": "[encoded data removed]",
      "text/plain": [
       "<Figure size 576x432 with 1 Axes>"
      ]
     },
     "metadata": {
      "needs_background": "light"
     },
     "output_type": "display_data"
    }
   ],
   "source": [
    "plt.figure(figsize = (8,6))\n",
    "sns.boxplot(x = 'RIAGENDR', y = 'BMXHT',data = da)\n",
    "plt.title('Boxplot of heights for men and women')\n",
    "plt.xlabel('Gender')\n",
    "plt.ylabel('Height')\n",
    "plt.xticks([0,1],['Men','Women'])\n",
    "plt.show()"
   ]
  },
  {
   "cell_type": "markdown",
   "id": "22ee6184",
   "metadata": {
    "id": "22ee6184"
   },
   "source": [
    "__Q3c.__ Comment on what features, if any are not represented clearly in the boxplots, and what features, if any, are easier to see in the boxplots than in the histograms."
   ]
  },
  {
   "cell_type": "markdown",
   "id": "b73b0886",
   "metadata": {
    "id": "271f76e0"
   },
   "source": [
    "The distribution is clearer in the histograms compared to the boxplot, and outliers and median and IQR are easier to see in the boxplots than in the histograms"
   ]
  },
  {
   "cell_type": "markdown",
   "id": "747983db",
   "metadata": {
    "id": "747983db"
   },
   "source": [
    "## Question 4\n",
    "\n",
    "Make a boxplot showing the distribution of within-subject differences between the first and second systolic blood pressure measurents ([BPXSY1](https://wwwn.cdc.gov/Nchs/Nhanes/2015-2016/BPX_I.htm#BPXSY1) and [BPXSY2](https://wwwn.cdc.gov/Nchs/Nhanes/2015-2016/BPX_I.htm#BPXSY2))."
   ]
  },
  {
   "cell_type": "code",
   "execution_count": 268,
   "id": "24f58ac3",
   "metadata": {
    "id": "24f58ac3"
   },
   "outputs": [
    {
     "name": "stderr",
     "output_type": "stream",
     "text": [
      "/Library/Frameworks/Python.framework/Versions/3.7/lib/python3.7/site-packages/seaborn/_decorators.py:43: FutureWarning: Pass the following variable as a keyword arg: x. From version 0.12, the only valid positional argument will be `data`, and passing other arguments without an explicit keyword will result in an error or misinterpretation.\n",
      "  FutureWarning\n"
     ]
    },
    {
     "data": {
      "text/plain": [
       "<AxesSubplot:>"
      ]
     },
     "execution_count": 268,
     "metadata": {},
     "output_type": "execute_result"
    },
    {
     "data": {
      "image/png": "[encoded data removed]",
      "text/plain": [
       "<Figure size 432x288 with 1 Axes>"
      ]
     },
     "metadata": {
      "needs_background": "light"
     },
     "output_type": "display_data"
    }
   ],
   "source": [
    "sns.boxplot(da.BPXSY2 - da.BPXSY1)"
   ]
  },
  {
   "cell_type": "markdown",
   "id": "a9ad0e13",
   "metadata": {
    "id": "a9ad0e13"
   },
   "source": [
    "__Q4a.__ What proportion of the subjects have a lower SBP on the second reading compared to the first?"
   ]
  },
  {
   "cell_type": "markdown",
   "id": "48b734cc",
   "metadata": {
    "id": "47a217f1"
   },
   "source": [
    "About half of the subject have a lower SPB on the second reading compared to the first"
   ]
  },
  {
   "cell_type": "markdown",
   "id": "1655e4ff",
   "metadata": {
    "id": "1655e4ff"
   },
   "source": [
    "__Q4b.__ Make side-by-side boxplots of the two systolic blood pressure variables."
   ]
  },
  {
   "cell_type": "code",
   "execution_count": 269,
   "id": "9b22c626",
   "metadata": {
    "id": "9b22c626"
   },
   "outputs": [
    {
     "data": {
      "image/png": "[encoded data removed]",
      "text/plain": [
       "<Figure size 432x288 with 1 Axes>"
      ]
     },
     "metadata": {
      "needs_background": "light"
     },
     "output_type": "display_data"
    }
   ],
   "source": [
    "sns.boxplot( data = da.loc[:,['BPXSY1','BPXSY2']])\n",
    "plt.title('Boxplots of two systolic blood pressure variables')\n",
    "plt.show()"
   ]
  },
  {
   "cell_type": "markdown",
   "id": "1ce50f7c",
   "metadata": {
    "id": "1ce50f7c"
   },
   "source": [
    "__Q4c.__ Comment on the variation within either the first or second systolic blood pressure measurements, and the variation in the within-subject differences between the first and second systolic blood pressure measurements."
   ]
  },
  {
   "cell_type": "markdown",
   "id": "15d6d12d",
   "metadata": {
    "id": "1fe8de40"
   },
   "source": [
    "The two blood pressure measurements seem to have rougly the same median and similar distribution, with many outliers on the higher side. \n",
    "The median of the within-subject differences is 0, with roughly 50% range from -5 to 2. \n"
   ]
  },
  {
   "cell_type": "markdown",
   "id": "5e4641c7",
   "metadata": {
    "id": "5e4641c7"
   },
   "source": [
    "## Question 5\n",
    "\n",
    "Construct a frequency table of household sizes for people within each educational attainment category (the relevant variable is [DMDEDUC2](https://wwwn.cdc.gov/Nchs/Nhanes/2015-2016/DEMO_I.htm#DMDEDUC2)).  Convert the frequencies to proportions."
   ]
  },
  {
   "cell_type": "code",
   "execution_count": 280,
   "id": "ca60b448",
   "metadata": {
    "id": "ca60b448"
   },
   "outputs": [],
   "source": [
    "# First we will relabel the educational attainment category for better clarity\n",
    "da['education'] = da['DMDEDUC2'].replace({1:'Less than 9th',2:'9-11th grade',3:'High school graduate',\n",
    "                                         4:'Some college/AA',5:'College graduate and above',\n",
    "                                         7:'Refused',9:\"Don't know\"})"
   ]
  },
  {
   "cell_type": "code",
   "execution_count": 284,
   "id": "27cea6d0",
   "metadata": {},
   "outputs": [
    {
     "data": {
      "text/plain": [
       "0"
      ]
     },
     "execution_count": 284,
     "metadata": {},
     "output_type": "execute_result"
    }
   ],
   "source": [
    "# Find out how many null/missing values\n",
    "da['education'].isnull().sum()"
   ]
  },
  {
   "cell_type": "code",
   "execution_count": 285,
   "id": "5a49d196",
   "metadata": {},
   "outputs": [],
   "source": [
    "# Fill the null values with 'Missing'\n",
    "da['education'] = da['education'].fillna('Missing')"
   ]
  },
  {
   "cell_type": "code",
   "execution_count": 283,
   "id": "48299f26",
   "metadata": {},
   "outputs": [
    {
     "data": {
      "text/plain": [
       "Some college/AA               1621\n",
       "College graduate and above    1366\n",
       "High school graduate          1186\n",
       "Less than 9th                  655\n",
       "9-11th grade                   643\n",
       "Missing                        261\n",
       "Don't know                       3\n",
       "Name: education, dtype: int64"
      ]
     },
     "execution_count": 283,
     "metadata": {},
     "output_type": "execute_result"
    }
   ],
   "source": [
    "da['education'].value_counts()"
   ]
  },
  {
   "cell_type": "code",
   "execution_count": 291,
   "id": "cd5ec2b4",
   "metadata": {},
   "outputs": [],
   "source": [
    "# First, drop missing and don't know values\n",
    "dx = da.loc[~da.education.isin([\"Don't know\", \"Missing\"]), :]"
   ]
  },
  {
   "cell_type": "code",
   "execution_count": 293,
   "id": "def0877e",
   "metadata": {},
   "outputs": [
    {
     "data": {
      "text/html": [
       "<div>\n",
       "<style scoped>\n",
       "    .dataframe tbody tr th:only-of-type {\n",
       "        vertical-align: middle;\n",
       "    }\n",
       "\n",
       "    .dataframe tbody tr th {\n",
       "        vertical-align: top;\n",
       "    }\n",
       "\n",
       "    .dataframe thead th {\n",
       "        text-align: right;\n",
       "    }\n",
       "</style>\n",
       "<table border=\"1\" class=\"dataframe\">\n",
       "  <thead>\n",
       "    <tr style=\"text-align: right;\">\n",
       "      <th>DMDHHSIZ</th>\n",
       "      <th>1</th>\n",
       "      <th>2</th>\n",
       "      <th>3</th>\n",
       "      <th>4</th>\n",
       "      <th>5</th>\n",
       "      <th>6</th>\n",
       "      <th>7</th>\n",
       "    </tr>\n",
       "    <tr>\n",
       "      <th>education</th>\n",
       "      <th></th>\n",
       "      <th></th>\n",
       "      <th></th>\n",
       "      <th></th>\n",
       "      <th></th>\n",
       "      <th></th>\n",
       "      <th></th>\n",
       "    </tr>\n",
       "  </thead>\n",
       "  <tbody>\n",
       "    <tr>\n",
       "      <th>9-11th grade</th>\n",
       "      <td>0.116641</td>\n",
       "      <td>0.222395</td>\n",
       "      <td>0.163297</td>\n",
       "      <td>0.152411</td>\n",
       "      <td>0.146190</td>\n",
       "      <td>0.113530</td>\n",
       "      <td>0.085537</td>\n",
       "    </tr>\n",
       "    <tr>\n",
       "      <th>College graduate and above</th>\n",
       "      <td>0.142753</td>\n",
       "      <td>0.347731</td>\n",
       "      <td>0.193997</td>\n",
       "      <td>0.165447</td>\n",
       "      <td>0.095168</td>\n",
       "      <td>0.029283</td>\n",
       "      <td>0.025622</td>\n",
       "    </tr>\n",
       "    <tr>\n",
       "      <th>High school graduate</th>\n",
       "      <td>0.152614</td>\n",
       "      <td>0.270658</td>\n",
       "      <td>0.171164</td>\n",
       "      <td>0.161889</td>\n",
       "      <td>0.109612</td>\n",
       "      <td>0.065767</td>\n",
       "      <td>0.068297</td>\n",
       "    </tr>\n",
       "    <tr>\n",
       "      <th>Less than 9th</th>\n",
       "      <td>0.109924</td>\n",
       "      <td>0.224427</td>\n",
       "      <td>0.146565</td>\n",
       "      <td>0.132824</td>\n",
       "      <td>0.148092</td>\n",
       "      <td>0.108397</td>\n",
       "      <td>0.129771</td>\n",
       "    </tr>\n",
       "    <tr>\n",
       "      <th>Some college/AA</th>\n",
       "      <td>0.151141</td>\n",
       "      <td>0.268970</td>\n",
       "      <td>0.193091</td>\n",
       "      <td>0.169031</td>\n",
       "      <td>0.122147</td>\n",
       "      <td>0.050586</td>\n",
       "      <td>0.045034</td>\n",
       "    </tr>\n",
       "  </tbody>\n",
       "</table>\n",
       "</div>"
      ],
      "text/plain": [
       "DMDHHSIZ                           1         2         3         4         5  \\\n",
       "education                                                                      \n",
       "9-11th grade                0.116641  0.222395  0.163297  0.152411  0.146190   \n",
       "College graduate and above  0.142753  0.347731  0.193997  0.165447  0.095168   \n",
       "High school graduate        0.152614  0.270658  0.171164  0.161889  0.109612   \n",
       "Less than 9th               0.109924  0.224427  0.146565  0.132824  0.148092   \n",
       "Some college/AA             0.151141  0.268970  0.193091  0.169031  0.122147   \n",
       "\n",
       "DMDHHSIZ                           6         7  \n",
       "education                                       \n",
       "9-11th grade                0.113530  0.085537  \n",
       "College graduate and above  0.029283  0.025622  \n",
       "High school graduate        0.065767  0.068297  \n",
       "Less than 9th               0.108397  0.129771  \n",
       "Some college/AA             0.050586  0.045034  "
      ]
     },
     "execution_count": 293,
     "metadata": {},
     "output_type": "execute_result"
    }
   ],
   "source": [
    "df = dx.groupby('education')['DMDHHSIZ'].value_counts().unstack()\n",
    "df = df.apply(lambda x : x/x.sum(),axis = 1)\n",
    "df"
   ]
  },
  {
   "cell_type": "markdown",
   "id": "5161859f",
   "metadata": {
    "id": "5161859f"
   },
   "source": [
    "__Q5a.__ Comment on any major differences among the distributions."
   ]
  },
  {
   "cell_type": "code",
   "execution_count": 301,
   "id": "c02cd85a",
   "metadata": {},
   "outputs": [
    {
     "data": {
      "text/plain": [
       "Text(0, 0.5, 'Household size')"
      ]
     },
     "execution_count": 301,
     "metadata": {},
     "output_type": "execute_result"
    },
    {
     "data": {
      "image/png": "[encoded data removed]",
      "text/plain": [
       "<Figure size 432x288 with 1 Axes>"
      ]
     },
     "metadata": {
      "needs_background": "light"
     },
     "output_type": "display_data"
    }
   ],
   "source": [
    "# Make boxplots\n",
    "sns.boxplot(x = 'education', y = 'DMDHHSIZ',data = dx)\n",
    "plt.xticks(rotation = 90)\n",
    "plt.ylabel('Household size')"
   ]
  },
  {
   "cell_type": "markdown",
   "id": "9595217f",
   "metadata": {},
   "source": [
    "From the frequency table and the additional boxplot above, the median household size of people with less than 9th grade of education is higher (about 4.5) while that of the rest of the groups are about 3. \n",
    " \n",
    "The people with 9-11th grade and less than 9th grade of education have more variation in household size with half of them have household size between 2 and 5. \n",
    "\n",
    "The high school, some college and college graduate groups have pretty similar distribution with median household size about 3, and 50% of the households have size between 2 and 4."
   ]
  },
  {
   "cell_type": "markdown",
   "id": "665f3f71",
   "metadata": {
    "id": "665f3f71"
   },
   "source": [
    "__Q5b.__ Restrict the sample to people between 30 and 40 years of age.  Then calculate the median household size for women and men within each level of educational attainment."
   ]
  },
  {
   "cell_type": "code",
   "execution_count": 308,
   "id": "e2e07257",
   "metadata": {
    "id": "e2e07257"
   },
   "outputs": [
    {
     "name": "stderr",
     "output_type": "stream",
     "text": [
      "/Library/Frameworks/Python.framework/Versions/3.7/lib/python3.7/site-packages/ipykernel_launcher.py:2: SettingWithCopyWarning: \n",
      "A value is trying to be set on a copy of a slice from a DataFrame.\n",
      "Try using .loc[row_indexer,col_indexer] = value instead\n",
      "\n",
      "See the caveats in the documentation: https://pandas.pydata.org/pandas-docs/stable/user_guide/indexing.html#returning-a-view-versus-a-copy\n",
      "  \n"
     ]
    },
    {
     "data": {
      "text/plain": [
       "education                   Gender\n",
       "9-11th grade                Men       4.5\n",
       "                            Women     5.0\n",
       "College graduate and above  Men       3.0\n",
       "                            Women     3.0\n",
       "High school graduate        Men       4.0\n",
       "                            Women     5.0\n",
       "Less than 9th               Men       5.0\n",
       "                            Women     5.0\n",
       "Some college/AA             Men       4.0\n",
       "                            Women     4.0\n",
       "Name: DMDHHSIZ, dtype: float64"
      ]
     },
     "execution_count": 308,
     "metadata": {},
     "output_type": "execute_result"
    }
   ],
   "source": [
    "\n",
    "da30_40 = da[(da.RIDAGEYR >= 30) & (da.RIDAGEYR <= 40)]\n",
    "da30_40['Gender'] = da30_40.RIAGENDR.replace({1:'Men' , 2 : 'Women'})\n",
    "da30_40.groupby(['education','Gender'])['DMDHHSIZ'].median()"
   ]
  },
  {
   "cell_type": "markdown",
   "id": "560724e4",
   "metadata": {
    "id": "560724e4"
   },
   "source": [
    "## Question 6\n",
    "\n",
    "The participants can be clustered into \"maked variance units\" (MVU) based on every combination of the variables [SDMVSTRA](https://wwwn.cdc.gov/Nchs/Nhanes/2015-2016/DEMO_I.htm#SDMVSTRA) and [SDMVPSU](https://wwwn.cdc.gov/Nchs/Nhanes/2015-2016/DEMO_I.htm#SDMVPSU).  Calculate the mean age ([RIDAGEYR](https://wwwn.cdc.gov/Nchs/Nhanes/2015-2016/DEMO_I.htm#RIDAGEYR)), height ([BMXHT](https://wwwn.cdc.gov/Nchs/Nhanes/2015-2016/BMX_I.htm#BMXHT)), and BMI ([BMXBMI](https://wwwn.cdc.gov/Nchs/Nhanes/2015-2016/BMX_I.htm#BMXBMI)) for each gender ([RIAGENDR](https://wwwn.cdc.gov/Nchs/Nhanes/2015-2016/DEMO_I.htm#RIAGENDR)), within each MVU, and report the ratio between the largest and smallest mean (e.g. for height) across the MVUs."
   ]
  },
  {
   "cell_type": "code",
   "execution_count": null,
   "id": "721edc2c",
   "metadata": {
    "id": "721edc2c"
   },
   "outputs": [],
   "source": []
  },
  {
   "cell_type": "markdown",
   "id": "f588128a",
   "metadata": {
    "id": "f588128a"
   },
   "source": [
    "__Q6a.__ Comment on the extent to which mean age, height, and BMI vary among the MVUs."
   ]
  },
  {
   "cell_type": "code",
   "execution_count": null,
   "id": "af77bbc9",
   "metadata": {
    "id": "af77bbc9"
   },
   "outputs": [],
   "source": []
  },
  {
   "cell_type": "markdown",
   "id": "b497592c",
   "metadata": {
    "id": "b497592c"
   },
   "source": [
    "__Q6b.__ Calculate the inter-quartile range (IQR) for age, height, and BMI for each gender and each MVU.  Report the ratio between the largest and smalles IQR across the MVUs."
   ]
  },
  {
   "cell_type": "code",
   "execution_count": null,
   "id": "8f57ee87",
   "metadata": {
    "id": "8f57ee87"
   },
   "outputs": [],
   "source": []
  },
  {
   "cell_type": "markdown",
   "id": "204f033a",
   "metadata": {
    "id": "204f033a"
   },
   "source": [
    "__Q6c.__ Comment on the extent to which the IQR for age, height, and BMI vary among the MVUs."
   ]
  },
  {
   "cell_type": "code",
   "execution_count": null,
   "id": "bad5d7d0",
   "metadata": {
    "id": "bad5d7d0"
   },
   "outputs": [],
   "source": []
  }
 ],
 "metadata": {
  "colab": {
   "collapsed_sections": [
    "fd97a28f",
    "2fa39fc9",
    "747983db",
    "5e4641c7",
    "560724e4"
   ],
   "name": "nhanes_univariate_practice.ipynb",
   "provenance": []
  },
  "kernelspec": {
   "display_name": "Python 3",
   "language": "python",
   "name": "python3"
  },
  "language_info": {
   "codemirror_mode": {
    "name": "ipython",
    "version": 3
   },
   "file_extension": ".py",
   "mimetype": "text/x-python",
   "name": "python",
   "nbconvert_exporter": "python",
   "pygments_lexer": "ipython3",
   "version": "3.7.4"
  }
 },
 "nbformat": 4,
 "nbformat_minor": 5
}
