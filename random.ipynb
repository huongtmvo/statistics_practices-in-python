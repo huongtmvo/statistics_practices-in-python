{
 "cells": [
  {
   "cell_type": "markdown",
   "id": "1637d910",
   "metadata": {},
   "source": [
    "Generate 3 normal random variables with mean 100 and standard deviation 1"
   ]
  },
  {
   "cell_type": "code",
   "execution_count": 1,
   "id": "00ed1441",
   "metadata": {},
   "outputs": [
    {
     "name": "stdout",
     "output_type": "stream",
     "text": [
      "[ 98.9143694  100.99734545 100.2829785 ]\n"
     ]
    }
   ],
   "source": [
    "import numpy as np\n",
    "np.random.seed(123)\n",
    "sample = np.random.normal(100,1,3)\n",
    "print(sample)"
   ]
  },
  {
   "cell_type": "markdown",
   "id": "83223717",
   "metadata": {},
   "source": [
    "Draw a sample of size 10 from a set containing the integers 1 through 100"
   ]
  },
  {
   "cell_type": "code",
   "execution_count": 2,
   "id": "de8ca5f1",
   "metadata": {},
   "outputs": [
    {
     "name": "stdout",
     "output_type": "stream",
     "text": [
      "[67 93 99 18 84 58 87 98 97 48]\n"
     ]
    }
   ],
   "source": [
    "np.random.seed(123)\n",
    "population = np.arange(1,101)\n",
    "sample = np.random.choice(population,10)\n",
    "print(sample)"
   ]
  },
  {
   "cell_type": "code",
   "execution_count": null,
   "id": "fed2d2de",
   "metadata": {},
   "outputs": [],
   "source": []
  }
 ],
 "metadata": {
  "kernelspec": {
   "display_name": "Python 3",
   "language": "python",
   "name": "python3"
  },
  "language_info": {
   "codemirror_mode": {
    "name": "ipython",
    "version": 3
   },
   "file_extension": ".py",
   "mimetype": "text/x-python",
   "name": "python",
   "nbconvert_exporter": "python",
   "pygments_lexer": "ipython3",
   "version": "3.7.4"
  }
 },
 "nbformat": 4,
 "nbformat_minor": 5
}
