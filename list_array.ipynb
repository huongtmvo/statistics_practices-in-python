{
 "cells": [
  {
   "cell_type": "markdown",
   "id": "47a1e5a0",
   "metadata": {},
   "source": [
    "### List vs Arrays\n",
    "- List can have multiple datatypes\n",
    "- Array can have only one datatypes"
   ]
  },
  {
   "cell_type": "code",
   "execution_count": 4,
   "id": "f49ca6eb",
   "metadata": {},
   "outputs": [],
   "source": [
    "import numpy as np\n",
    "import matplotlib.pyplot as plt"
   ]
  },
  {
   "cell_type": "markdown",
   "id": "c6a7378b",
   "metadata": {},
   "source": [
    "#### Lists"
   ]
  },
  {
   "cell_type": "code",
   "execution_count": 10,
   "id": "9f3a961a",
   "metadata": {},
   "outputs": [
    {
     "name": "stdout",
     "output_type": "stream",
     "text": [
      "a\n",
      "['a', 123]\n"
     ]
    }
   ],
   "source": [
    "# Lists\n",
    "listA = ['a',123,'orange',4.5,'apple']\n",
    "# List indexing\n",
    "print(listA[0])\n",
    "\n",
    "# Slicing\n",
    "print(listA[0:2])"
   ]
  },
  {
   "cell_type": "code",
   "execution_count": 19,
   "id": "bdb5ed3b",
   "metadata": {},
   "outputs": [
    {
     "data": {
      "text/plain": [
       "['a', 123, 'orange', 4.5, 'apple', 'studying']"
      ]
     },
     "execution_count": 19,
     "metadata": {},
     "output_type": "execute_result"
    }
   ],
   "source": [
    "# Lists can append items in place\n",
    "listA.append('studying')\n",
    "listA"
   ]
  },
  {
   "cell_type": "markdown",
   "id": "7885382e",
   "metadata": {},
   "source": [
    "#### Arrays"
   ]
  },
  {
   "cell_type": "code",
   "execution_count": 11,
   "id": "8ffc9a7f",
   "metadata": {},
   "outputs": [
    {
     "name": "stdout",
     "output_type": "stream",
     "text": [
      "[1 4 5 6 7]\n",
      "[1.3 4.5 6.8 8.9]\n",
      "['an' 'fv' 'cd' 'dfg']\n"
     ]
    }
   ],
   "source": [
    "# Arrays:\n",
    "arrayA = np.array([1,4,5,6,7]) # take a list of integer\n",
    "arrayB = np.array([1.3,4.5,6.8,8.9]) # take a tuple of floats\n",
    "arrayC = np.array(['an','fv','cd','dfg']) # take a list of strings \n",
    "\n",
    "print(arrayA)\n",
    "print(arrayB)\n",
    "print(arrayC)"
   ]
  },
  {
   "cell_type": "code",
   "execution_count": 12,
   "id": "2734618d",
   "metadata": {},
   "outputs": [
    {
     "data": {
      "text/plain": [
       "array([[1, 2],\n",
       "       [3, 4]])"
      ]
     },
     "execution_count": 12,
     "metadata": {},
     "output_type": "execute_result"
    }
   ],
   "source": [
    "# more than one dimension arrays\n",
    "np.array([[1,2],[3,4]])"
   ]
  },
  {
   "cell_type": "code",
   "execution_count": 14,
   "id": "13a38db9",
   "metadata": {},
   "outputs": [
    {
     "data": {
      "text/plain": [
       "array([[[3.4, 5.6, 7. ]]])"
      ]
     },
     "execution_count": 14,
     "metadata": {},
     "output_type": "execute_result"
    }
   ],
   "source": [
    "# use minimum dimension of 3\n",
    "np.array([3.4,5.6,7.0],ndmin=3)"
   ]
  },
  {
   "cell_type": "code",
   "execution_count": 16,
   "id": "f42fe1e8",
   "metadata": {},
   "outputs": [
    {
     "data": {
      "text/plain": [
       "array([3, 5, 6])"
      ]
     },
     "execution_count": 16,
     "metadata": {},
     "output_type": "execute_result"
    }
   ],
   "source": [
    "# Use the type provided to create an array\n",
    "np.array([3.5,5.4,6.7],dtype=int)"
   ]
  },
  {
   "cell_type": "code",
   "execution_count": 17,
   "id": "2d6f9916",
   "metadata": {},
   "outputs": [
    {
     "data": {
      "text/plain": [
       "array([2. +0.j, 3.4+0.j, 3.3+0.j])"
      ]
     },
     "execution_count": 17,
     "metadata": {},
     "output_type": "execute_result"
    }
   ],
   "source": [
    "np.array((2,3.4,3.3),dtype=complex)"
   ]
  },
  {
   "cell_type": "code",
   "execution_count": 18,
   "id": "1f48e2c5",
   "metadata": {},
   "outputs": [
    {
     "data": {
      "text/plain": [
       "array([0.33333333, 1.33333333, 1.66666667, 2.        , 2.33333333])"
      ]
     },
     "execution_count": 18,
     "metadata": {},
     "output_type": "execute_result"
    }
   ],
   "source": [
    "# Do calculations with numpy arrays\n",
    "arrayA/3"
   ]
  },
  {
   "cell_type": "code",
   "execution_count": 21,
   "id": "61746396",
   "metadata": {},
   "outputs": [
    {
     "name": "stdout",
     "output_type": "stream",
     "text": [
      "[3.4 5.6 7.2]\n",
      "[3.4 5.6 7.2]\n",
      "[3.4 5.6 7.2 5.4]\n"
     ]
    }
   ],
   "source": [
    "# Append an item to array\n",
    "array1 = np.array([3.4,5.6,7.2])\n",
    "print(array1)\n",
    "np.append(array1,4.0) # This will not work since cannot append in place for arrays\n",
    "print(array1)\n",
    "\n",
    "# The correct way to append an array is\n",
    "array1 = np.append(array1,5.4)\n",
    "print(array1)"
   ]
  },
  {
   "cell_type": "code",
   "execution_count": null,
   "id": "14a00a1d",
   "metadata": {},
   "outputs": [],
   "source": []
  }
 ],
 "metadata": {
  "kernelspec": {
   "display_name": "Python 3",
   "language": "python",
   "name": "python3"
  },
  "language_info": {
   "codemirror_mode": {
    "name": "ipython",
    "version": 3
   },
   "file_extension": ".py",
   "mimetype": "text/x-python",
   "name": "python",
   "nbconvert_exporter": "python",
   "pygments_lexer": "ipython3",
   "version": "3.7.4"
  }
 },
 "nbformat": 4,
 "nbformat_minor": 5
}
